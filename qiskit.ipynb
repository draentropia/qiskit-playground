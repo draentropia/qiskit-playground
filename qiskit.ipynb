{
 "cells": [
  {
   "cell_type": "markdown",
   "metadata": {},
   "source": [
    "Font : Pyjamas Conference (dec 5-6 2021 by Harshdeep Singh, CCDS, IIT Kharagpur) https://www.youtube.com/watch?v=Z6GxV8UGuQU&list=PLiwrSoq9tHkGREiplS0cWA3Oa2V3leMB5&index=3\n",
    "---\n",
    "Requierements : qiskit, matplotlib, pylatexenc\n",
    "---\n",
    "Tutorial made with version 0.19.0 but youtube talk was with an earlier version"
   ]
  },
  {
   "cell_type": "code",
   "execution_count": 52,
   "metadata": {},
   "outputs": [],
   "source": [
    "from qiskit import QuantumRegister, ClassicalRegister, QuantumCircuit, Aer, execute\n",
    "from qiskit.tools.visualization import plot_histogram"
   ]
  },
  {
   "cell_type": "markdown",
   "metadata": {},
   "source": [
    "# Calling the qubits and classical registers\n",
    "\n",
    "## Creating a single qubit (the number means how many qubits we create)"
   ]
  },
  {
   "cell_type": "code",
   "execution_count": 53,
   "metadata": {},
   "outputs": [],
   "source": [
    "qubit = QuantumRegister(1)"
   ]
  },
  {
   "cell_type": "markdown",
   "metadata": {},
   "source": [
    "## Creating a classical register: store the result of the  measurement"
   ]
  },
  {
   "cell_type": "code",
   "execution_count": 54,
   "metadata": {},
   "outputs": [],
   "source": [
    "classical = ClassicalRegister(1)"
   ]
  },
  {
   "cell_type": "markdown",
   "metadata": {},
   "source": [
    "# Making our first circuit"
   ]
  },
  {
   "cell_type": "code",
   "execution_count": 55,
   "metadata": {},
   "outputs": [],
   "source": [
    "circuit = QuantumCircuit(qubit, classical)"
   ]
  },
  {
   "cell_type": "markdown",
   "metadata": {},
   "source": [
    "## Displaying the circuit. The 0 means the 0st element of the qubit and classical registers"
   ]
  },
  {
   "cell_type": "code",
   "execution_count": 56,
   "metadata": {},
   "outputs": [
    {
     "data": {
      "image/png": "[encoded data removed]",
      "text/plain": [
       "<Figure size 129.823x144.48 with 1 Axes>"
      ]
     },
     "metadata": {},
     "output_type": "display_data"
    }
   ],
   "source": [
    "display(circuit.draw('mpl'))"
   ]
  },
  {
   "cell_type": "markdown",
   "metadata": {},
   "source": [
    "## Adding the measurement. Measures the 0th qubit (left) and stores it in the 0th classical register (right)"
   ]
  },
  {
   "cell_type": "code",
   "execution_count": 57,
   "metadata": {},
   "outputs": [
    {
     "data": {
      "text/plain": [
       "<qiskit.circuit.instructionset.InstructionSet at 0x249ef859280>"
      ]
     },
     "execution_count": 57,
     "metadata": {},
     "output_type": "execute_result"
    }
   ],
   "source": [
    "circuit.measure(0, 0)"
   ]
  },
  {
   "cell_type": "markdown",
   "metadata": {},
   "source": [
    "## Displaying the circuit. The black symbol means that we are doing a mesurement and the arrow means that we are storing the value in the 0th classical register"
   ]
  },
  {
   "cell_type": "code",
   "execution_count": 58,
   "metadata": {},
   "outputs": [
    {
     "data": {
      "image/png": "[encoded data removed]",
      "text/plain": [
       "<Figure size 159.923x144.48 with 1 Axes>"
      ]
     },
     "metadata": {},
     "output_type": "display_data"
    }
   ],
   "source": [
    "display(circuit.draw('mpl'))"
   ]
  },
  {
   "cell_type": "markdown",
   "metadata": {},
   "source": [
    "# Performing a measurement\n",
    "\n",
    "## Step-1 : Prepare a simulator (we are running it in a classical computer!)"
   ]
  },
  {
   "cell_type": "code",
   "execution_count": 59,
   "metadata": {},
   "outputs": [],
   "source": [
    "simulator = Aer.get_backend('qasm_simulator')"
   ]
  },
  {
   "cell_type": "markdown",
   "metadata": {},
   "source": [
    "## Step-2 : Execute the circuit"
   ]
  },
  {
   "cell_type": "code",
   "execution_count": 60,
   "metadata": {},
   "outputs": [],
   "source": [
    "job = execute(circuit, simulator, shots=1000)"
   ]
  },
  {
   "cell_type": "markdown",
   "metadata": {},
   "source": [
    "## Step-3 : Get the result"
   ]
  },
  {
   "cell_type": "code",
   "execution_count": 61,
   "metadata": {},
   "outputs": [],
   "source": [
    "result = job.result()"
   ]
  },
  {
   "cell_type": "markdown",
   "metadata": {},
   "source": [
    "## Get the counts (number of times we have either 0 or 1)"
   ]
  },
  {
   "cell_type": "code",
   "execution_count": 62,
   "metadata": {},
   "outputs": [],
   "source": [
    "counts = result.get_counts()"
   ]
  },
  {
   "cell_type": "markdown",
   "metadata": {},
   "source": [
    "## Display the results"
   ]
  },
  {
   "cell_type": "code",
   "execution_count": 63,
   "metadata": {},
   "outputs": [
    {
     "data": {
      "image/png": "[encoded data removed]",
      "text/plain": [
       "<Figure size 216x288 with 1 Axes>"
      ]
     },
     "metadata": {},
     "output_type": "display_data"
    }
   ],
   "source": [
    "display(plot_histogram(counts, figsize=(3, 4)))"
   ]
  },
  {
   "cell_type": "markdown",
   "metadata": {},
   "source": [
    "# Gates\n",
    "\n",
    "## NOT gate"
   ]
  },
  {
   "cell_type": "code",
   "execution_count": 64,
   "metadata": {},
   "outputs": [
    {
     "data": {
      "text/plain": [
       "<qiskit.circuit.instructionset.InstructionSet at 0x249efd45480>"
      ]
     },
     "execution_count": 64,
     "metadata": {},
     "output_type": "execute_result"
    }
   ],
   "source": [
    "circuit.x(0) # We will measure the not of input 0"
   ]
  },
  {
   "cell_type": "markdown",
   "metadata": {},
   "source": [
    "### Adding measurement and displaying circuit (the drawing tool is not refreshed, consider from the last X to the end )"
   ]
  },
  {
   "cell_type": "code",
   "execution_count": 65,
   "metadata": {},
   "outputs": [
    {
     "data": {
      "image/png": "[encoded data removed]",
      "text/plain": [
       "<Figure size 280.323x144.48 with 1 Axes>"
      ]
     },
     "metadata": {},
     "output_type": "display_data"
    }
   ],
   "source": [
    "circuit.measure(0, 0)\n",
    "display(circuit.draw('mpl'))"
   ]
  },
  {
   "cell_type": "markdown",
   "metadata": {},
   "source": [
    "### Performing measurement "
   ]
  },
  {
   "cell_type": "code",
   "execution_count": 66,
   "metadata": {},
   "outputs": [
    {
     "data": {
      "image/png": "[encoded data removed]",
      "text/plain": [
       "<Figure size 216x288 with 1 Axes>"
      ]
     },
     "metadata": {},
     "output_type": "display_data"
    }
   ],
   "source": [
    "simulator_2 = Aer.get_backend('qasm_simulator')\n",
    "job_2 = execute(circuit, simulator_2, shots=1000)\n",
    "result_2 = job_2.result()\n",
    "counts_2 = result_2.get_counts()\n",
    "display(plot_histogram(counts_2, figsize=(3, 4)))"
   ]
  },
  {
   "cell_type": "markdown",
   "metadata": {},
   "source": [
    "# Operators : one-qubit operators and multiple-qbut operators\n",
    "\n",
    "## One-qubit operator\n",
    "### The Hadamard Operator: take defined states and returns the superposition states"
   ]
  },
  {
   "cell_type": "code",
   "execution_count": 67,
   "metadata": {},
   "outputs": [
    {
     "data": {
      "image/png": "[encoded data removed]",
      "text/plain": [
       "<Figure size 193.726x144.48 with 1 Axes>"
      ]
     },
     "metadata": {},
     "output_type": "display_data"
    }
   ],
   "source": [
    "circuit2 = QuantumCircuit(1, 1) # Another way to create circuits (qubits, classical registry)\n",
    "circuit2.h(0) # Adding the Hadamard gate at the 0th qubit\n",
    "circuit2.measure(0, 0)\n",
    "display(circuit2.draw('mpl'))"
   ]
  },
  {
   "cell_type": "code",
   "execution_count": 68,
   "metadata": {},
   "outputs": [
    {
     "data": {
      "image/png": "[encoded data removed]",
      "text/plain": [
       "<Figure size 216x288 with 1 Axes>"
      ]
     },
     "metadata": {},
     "output_type": "display_data"
    }
   ],
   "source": [
    "simulator2 = Aer.get_backend('qasm_simulator')\n",
    "job2 = execute(circuit2, simulator2, shots=1000)\n",
    "result2 = job2.result()\n",
    "counts2 = result2.get_counts()\n",
    "display(plot_histogram(counts2, figsize=(3, 4)))"
   ]
  },
  {
   "cell_type": "markdown",
   "metadata": {},
   "source": [
    "## Multiple-qubit Operator: \n",
    "One of they most important class of multiple-qubit operators are the controlled operators, where some qubits acts as the 'control qubit' to decide whether a particular operation will be carried out or not, adn the 'target qubit' on which the operation is being applied.\n",
    "\n",
    "### Controlled-NOT (CNOT) operator: NOT gate will be applied on the target qubit if the control qubit is in state |1>"
   ]
  },
  {
   "cell_type": "code",
   "execution_count": 70,
   "metadata": {},
   "outputs": [
    {
     "data": {
      "image/png": "[encoded data removed]",
      "text/plain": [
       "<Figure size 267.052x204.68 with 1 Axes>"
      ]
     },
     "metadata": {},
     "output_type": "display_data"
    }
   ],
   "source": [
    "# First example: CNOT|00>\n",
    "circuit3 = QuantumCircuit(2, 2) # 2 qubits, 2 classical registries\n",
    "circuit3.cnot(0, 1) # circuit gate from qubit 0 to qubit one. 0 qubit is control and 1 is target.\n",
    "circuit3.measure([0, 1], [0, 1]) # measurement of 0th qubit will be on the 0th classical registry and the same for the 1st.\n",
    "display(circuit3.draw('mpl'))"
   ]
  },
  {
   "cell_type": "code",
   "execution_count": 76,
   "metadata": {},
   "outputs": [
    {
     "data": {
      "image/png": "[encoded data removed]",
      "text/plain": [
       "<Figure size 216x288 with 1 Axes>"
      ]
     },
     "metadata": {},
     "output_type": "display_data"
    }
   ],
   "source": [
    "simulator = Aer.get_backend('qasm_simulator')\n",
    "job3 = execute(circuit3, simulator, shots=1000)\n",
    "result3 = job3.result()\n",
    "count3 = result3.get_counts()\n",
    "display(plot_histogram(count3, figsize=(3, 4)))"
   ]
  },
  {
   "cell_type": "code",
   "execution_count": 74,
   "metadata": {},
   "outputs": [
    {
     "data": {
      "image/png": "[encoded data removed]",
      "text/plain": [
       "<Figure size 327.252x204.68 with 1 Axes>"
      ]
     },
     "metadata": {},
     "output_type": "display_data"
    }
   ],
   "source": [
    "# Second example: CNOT|01>\n",
    "circuit4 = QuantumCircuit(2, 2) # 2 qubits, 2 classical registries\n",
    "circuit4.x(0) # Changes state of qubit on 0th position (control one)\n",
    "circuit4.cnot(0, 1) # circuit gate from qubit 0 to qubit one. 0 qubit is control and 1 is target.\n",
    "circuit4.measure([0, 1], [0, 1]) # measurement of 0th qubit will be on the 0th classical registry and the same for the 1st.\n",
    "display(circuit4.draw('mpl'))"
   ]
  },
  {
   "cell_type": "code",
   "execution_count": 75,
   "metadata": {},
   "outputs": [
    {
     "data": {
      "image/png": "[encoded data removed]",
      "text/plain": [
       "<Figure size 216x288 with 1 Axes>"
      ]
     },
     "metadata": {},
     "output_type": "display_data"
    }
   ],
   "source": [
    "simulator = Aer.get_backend('qasm_simulator')\n",
    "job4 = execute(circuit4, simulator, shots=1000)\n",
    "result4 = job4.result()\n",
    "count4 = result4.get_counts()\n",
    "display(plot_histogram(count4, figsize=(3, 4)))"
   ]
  }
 ],
 "metadata": {
  "interpreter": {
   "hash": "bb09fd0ca8175b0027b9a59389d4df41c338729936489097c1c06ea21fc41541"
  },
  "kernelspec": {
   "display_name": "Python 3.9.9 64-bit (windows store)",
   "name": "python3"
  },
  "language_info": {
   "codemirror_mode": {
    "name": "ipython",
    "version": 3
   },
   "file_extension": ".py",
   "mimetype": "text/x-python",
   "name": "python",
   "nbconvert_exporter": "python",
   "pygments_lexer": "ipython3",
   "version": "3.9.9"
  },
  "orig_nbformat": 4
 },
 "nbformat": 4,
 "nbformat_minor": 2
}
